{
 "cells": [
  {
   "attachments": {},
   "cell_type": "markdown",
   "metadata": {},
   "source": [
    "# Feature selection"
   ]
  },
  {
   "cell_type": "code",
   "execution_count": 17,
   "metadata": {},
   "outputs": [],
   "source": [
    "import numpy as np\n",
    "import pandas as pd\n",
    "import matplotlib.pyplot as plt\n",
    "import seaborn as sns\n",
    "\n",
    "import afdetection.utils.paths as path\n",
    "\n",
    "from afdetection.data.make_dataset import MakeDataset\n",
    "from afdetection.features.build_features import BuildFeatures\n",
    "\n",
    "from xgboost import XGBClassifier\n",
    "from sklearn_genetic import GAFeatureSelectionCV"
   ]
  },
  {
   "attachments": {},
   "cell_type": "markdown",
   "metadata": {},
   "source": [
    "## Load dataset file"
   ]
  },
  {
   "cell_type": "code",
   "execution_count": 18,
   "metadata": {},
   "outputs": [],
   "source": [
    "# make_data = MakeDataset()\n",
    "# dataset_DIR = path.data_raw_dir('dataset.csv')\n",
    "# dataset = make_data.read_from_csv(dataset_DIR)\n",
    "\n",
    "# build_features = BuildFeatures()\n",
    "# X, y = build_features.features_target_split(\n",
    "#     dataset=dataset,\n",
    "#     drop_cols=['diagnosi', 'ritmi'],\n",
    "#     target='ritmi'\n",
    "# )"
   ]
  },
  {
   "attachments": {},
   "cell_type": "markdown",
   "metadata": {},
   "source": [
    "## Load wavelet fatures"
   ]
  },
  {
   "cell_type": "code",
   "execution_count": 19,
   "metadata": {},
   "outputs": [
    {
     "data": {
      "text/html": [
       "<div>\n",
       "<style scoped>\n",
       "    .dataframe tbody tr th:only-of-type {\n",
       "        vertical-align: middle;\n",
       "    }\n",
       "\n",
       "    .dataframe tbody tr th {\n",
       "        vertical-align: top;\n",
       "    }\n",
       "\n",
       "    .dataframe thead th {\n",
       "        text-align: right;\n",
       "    }\n",
       "</style>\n",
       "<table border=\"1\" class=\"dataframe\">\n",
       "  <thead>\n",
       "    <tr style=\"text-align: right;\">\n",
       "      <th></th>\n",
       "      <th>I_cA5_energy</th>\n",
       "      <th>I_cD5_energy</th>\n",
       "      <th>I_cD4_energy</th>\n",
       "      <th>I_cD3_energy</th>\n",
       "      <th>I_cD2_energy</th>\n",
       "      <th>I_cD1_energy</th>\n",
       "      <th>ritmi</th>\n",
       "    </tr>\n",
       "  </thead>\n",
       "  <tbody>\n",
       "    <tr>\n",
       "      <th>0</th>\n",
       "      <td>55.013139</td>\n",
       "      <td>96.480633</td>\n",
       "      <td>121.504127</td>\n",
       "      <td>13.488700</td>\n",
       "      <td>0.591159</td>\n",
       "      <td>0.111367</td>\n",
       "      <td>VA</td>\n",
       "    </tr>\n",
       "    <tr>\n",
       "      <th>1</th>\n",
       "      <td>55.013139</td>\n",
       "      <td>96.480633</td>\n",
       "      <td>121.504127</td>\n",
       "      <td>13.488700</td>\n",
       "      <td>0.591159</td>\n",
       "      <td>0.111367</td>\n",
       "      <td>AF</td>\n",
       "    </tr>\n",
       "    <tr>\n",
       "      <th>2</th>\n",
       "      <td>41.573709</td>\n",
       "      <td>20.138983</td>\n",
       "      <td>7.832812</td>\n",
       "      <td>0.944590</td>\n",
       "      <td>0.082381</td>\n",
       "      <td>0.033544</td>\n",
       "      <td>SR</td>\n",
       "    </tr>\n",
       "    <tr>\n",
       "      <th>3</th>\n",
       "      <td>61.783369</td>\n",
       "      <td>51.065864</td>\n",
       "      <td>53.527336</td>\n",
       "      <td>11.363368</td>\n",
       "      <td>1.552001</td>\n",
       "      <td>0.406809</td>\n",
       "      <td>VA</td>\n",
       "    </tr>\n",
       "    <tr>\n",
       "      <th>4</th>\n",
       "      <td>23.353338</td>\n",
       "      <td>13.608418</td>\n",
       "      <td>4.542217</td>\n",
       "      <td>0.980550</td>\n",
       "      <td>0.189123</td>\n",
       "      <td>0.044602</td>\n",
       "      <td>VA</td>\n",
       "    </tr>\n",
       "    <tr>\n",
       "      <th>...</th>\n",
       "      <td>...</td>\n",
       "      <td>...</td>\n",
       "      <td>...</td>\n",
       "      <td>...</td>\n",
       "      <td>...</td>\n",
       "      <td>...</td>\n",
       "      <td>...</td>\n",
       "    </tr>\n",
       "    <tr>\n",
       "      <th>6423</th>\n",
       "      <td>8.502504</td>\n",
       "      <td>2.768978</td>\n",
       "      <td>2.274819</td>\n",
       "      <td>0.378829</td>\n",
       "      <td>0.067696</td>\n",
       "      <td>0.023346</td>\n",
       "      <td>VA</td>\n",
       "    </tr>\n",
       "    <tr>\n",
       "      <th>6424</th>\n",
       "      <td>51.284600</td>\n",
       "      <td>9.643762</td>\n",
       "      <td>3.406913</td>\n",
       "      <td>0.625492</td>\n",
       "      <td>0.209773</td>\n",
       "      <td>0.064470</td>\n",
       "      <td>VA</td>\n",
       "    </tr>\n",
       "    <tr>\n",
       "      <th>6425</th>\n",
       "      <td>11.661859</td>\n",
       "      <td>5.792339</td>\n",
       "      <td>3.894952</td>\n",
       "      <td>2.313951</td>\n",
       "      <td>1.974222</td>\n",
       "      <td>0.757749</td>\n",
       "      <td>SR</td>\n",
       "    </tr>\n",
       "    <tr>\n",
       "      <th>6426</th>\n",
       "      <td>15.923179</td>\n",
       "      <td>8.861932</td>\n",
       "      <td>3.909852</td>\n",
       "      <td>1.520737</td>\n",
       "      <td>0.447607</td>\n",
       "      <td>0.113704</td>\n",
       "      <td>AF</td>\n",
       "    </tr>\n",
       "    <tr>\n",
       "      <th>6427</th>\n",
       "      <td>18.150714</td>\n",
       "      <td>9.279553</td>\n",
       "      <td>7.875563</td>\n",
       "      <td>0.969245</td>\n",
       "      <td>0.308592</td>\n",
       "      <td>0.096457</td>\n",
       "      <td>SR</td>\n",
       "    </tr>\n",
       "  </tbody>\n",
       "</table>\n",
       "<p>6428 rows × 7 columns</p>\n",
       "</div>"
      ],
      "text/plain": [
       "      I_cA5_energy  I_cD5_energy  I_cD4_energy  I_cD3_energy  I_cD2_energy  \\\n",
       "0        55.013139     96.480633    121.504127     13.488700      0.591159   \n",
       "1        55.013139     96.480633    121.504127     13.488700      0.591159   \n",
       "2        41.573709     20.138983      7.832812      0.944590      0.082381   \n",
       "3        61.783369     51.065864     53.527336     11.363368      1.552001   \n",
       "4        23.353338     13.608418      4.542217      0.980550      0.189123   \n",
       "...            ...           ...           ...           ...           ...   \n",
       "6423      8.502504      2.768978      2.274819      0.378829      0.067696   \n",
       "6424     51.284600      9.643762      3.406913      0.625492      0.209773   \n",
       "6425     11.661859      5.792339      3.894952      2.313951      1.974222   \n",
       "6426     15.923179      8.861932      3.909852      1.520737      0.447607   \n",
       "6427     18.150714      9.279553      7.875563      0.969245      0.308592   \n",
       "\n",
       "      I_cD1_energy ritmi  \n",
       "0         0.111367    VA  \n",
       "1         0.111367    AF  \n",
       "2         0.033544    SR  \n",
       "3         0.406809    VA  \n",
       "4         0.044602    VA  \n",
       "...            ...   ...  \n",
       "6423      0.023346    VA  \n",
       "6424      0.064470    VA  \n",
       "6425      0.757749    SR  \n",
       "6426      0.113704    AF  \n",
       "6427      0.096457    SR  \n",
       "\n",
       "[6428 rows x 7 columns]"
      ]
     },
     "metadata": {},
     "output_type": "display_data"
    }
   ],
   "source": [
    "make_data = MakeDataset()\n",
    "wavelet_features_DIR = path.data_raw_dir('ecg_features_wavelet.csv')\n",
    "wavelet_features = make_data.read_from_csv(wavelet_features_DIR)\n",
    "\n",
    "# Get only 1 derivation\n",
    "wavelet_features = wavelet_features.iloc[:, :6]\n",
    "\n",
    "target_DIR = path.data_raw_dir('coorteeqsrafva.csv')\n",
    "target = make_data.read_from_csv(target_DIR, sep=';')\n",
    "target = target['ritmi']\n",
    "\n",
    "dataset = pd.concat([wavelet_features, target], axis=1)\n",
    "display(dataset)\n",
    "\n",
    "build_features = BuildFeatures()\n",
    "X, y = build_features.features_target_split(\n",
    "    dataset=dataset,\n",
    "    drop_cols=['ritmi'],\n",
    "    target='ritmi'\n",
    ")"
   ]
  },
  {
   "attachments": {},
   "cell_type": "markdown",
   "metadata": {},
   "source": [
    "## Correlation analysis\n"
   ]
  },
  {
   "cell_type": "code",
   "execution_count": 20,
   "metadata": {},
   "outputs": [
    {
     "data": {
      "image/png": "[encoded data removed]",
      "text/plain": [
       "<Figure size 1000x1000 with 2 Axes>"
      ]
     },
     "metadata": {},
     "output_type": "display_data"
    }
   ],
   "source": [
    "corr = X.corr().abs()\n",
    "plt.figure(figsize=(10, 10))\n",
    "sns.heatmap(corr, annot=False)\n",
    "plt.tight_layout()\n",
    "plt.show()"
   ]
  },
  {
   "cell_type": "code",
   "execution_count": 21,
   "metadata": {},
   "outputs": [
    {
     "name": "stdout",
     "output_type": "stream",
     "text": [
      "Independent features:\n",
      " ['I_cA5_energy', 'I_cD5_energy', 'I_cD3_energy']\n",
      "Dependent features:\n",
      " ['I_cD4_energy', 'I_cD2_energy', 'I_cD1_energy']\n"
     ]
    }
   ],
   "source": [
    "thr = 0.7 # Correlation threshold\n",
    "support = np.full((corr.shape[0]), True, dtype=bool)\n",
    "for i in range(corr.shape[0]):\n",
    "    for j in range(i+1, corr.shape[0]):\n",
    "        if corr.iloc[i,j] >= thr:\n",
    "            if support[j]:\n",
    "                support[j] = False\n",
    "\n",
    "selected_corr = X.columns[support].to_list()\n",
    "discarted_corr = X.columns[~support].to_list()\n",
    "\n",
    "print('Independent features:\\n', selected_corr)\n",
    "print('Dependent features:\\n', discarted_corr)"
   ]
  },
  {
   "attachments": {},
   "cell_type": "markdown",
   "metadata": {},
   "source": [
    "## Genetic algorithm feature selection"
   ]
  },
  {
   "cell_type": "code",
   "execution_count": 24,
   "metadata": {},
   "outputs": [
    {
     "name": "stdout",
     "output_type": "stream",
     "text": [
      "gen\tnevals\tfitness \tfitness_std\tfitness_max\tfitness_min\n",
      "0  \t10    \t-29999.7\t45825.9    \t0.400591   \t-100000    \n",
      "1  \t20    \t-39999.8\t48990      \t0.398258   \t-100000    \n",
      "2  \t20    \t-19999.7\t40000.2    \t0.398258   \t-100000    \n",
      "3  \t20    \t-19999.7\t40000.2    \t0.398258   \t-100000    \n",
      "4  \t20    \t0.396266\t0.00398258 \t0.398258   \t0.388301   \n",
      "5  \t20    \t-19999.7\t40000.2    \t0.398258   \t-100000    \n",
      "Selected features:\n",
      " ['I_cA5_energy', 'I_cD3_energy']\n",
      "Discarted features:\n",
      " ['I_cD5_energy', 'I_cD4_energy', 'I_cD2_energy', 'I_cD1_energy']\n"
     ]
    }
   ],
   "source": [
    "# Estimator\n",
    "clf = XGBClassifier()\n",
    "\n",
    "selector = GAFeatureSelectionCV(estimator=clf,\n",
    "                                cv=2,\n",
    "                                scoring=\"accuracy\",\n",
    "                                population_size=10,\n",
    "                                generations=5,\n",
    "                                max_features=3,\n",
    "                                n_jobs=-1,\n",
    "                                verbose=True,\n",
    "                                keep_top_k=1,\n",
    "                                elitism=True)\n",
    "\n",
    "selector.fit(X, y)\n",
    "support = selector.best_features_\n",
    "\n",
    "selected_ga = X.columns[support].to_list()\n",
    "discarted_ga = X.columns[~support].to_list()\n",
    "\n",
    "print('Selected features:\\n', selected_ga)\n",
    "print('Discarted features:\\n', discarted_ga)"
   ]
  },
  {
   "cell_type": "code",
   "execution_count": 23,
   "metadata": {},
   "outputs": [
    {
     "data": {
      "text/plain": [
       "['I_cA5_energy',\n",
       " 'I_cD5_energy',\n",
       " 'I_cD3_energy',\n",
       " 'I_cA5_mean',\n",
       " 'I_cD5_mean',\n",
       " 'I_cD4_mean',\n",
       " 'I_cD3_mean',\n",
       " 'I_cD2_mean',\n",
       " 'I_cD1_mean']"
      ]
     },
     "execution_count": 23,
     "metadata": {},
     "output_type": "execute_result"
    }
   ],
   "source": [
    "# Selected features: V0\n",
    "['I_cD1_energy', 'I_cD4_mean', 'I_cD3_mean', 'I_cD2_mean', 'I_cA5_varance', 'I_cD5_varance', 'I_cD4_varance', 'I_cD1_varance', 'I_cD5_std_dev', 'I_cD4_std_dev', 'I_cD3_std_dev', 'II_cA5_energy', 'II_cD5_energy', 'II_cD2_energy', 'II_cD4_mean', 'II_cD3_mean', 'II_cD2_mean', 'II_cA5_varance', 'II_cD3_varance', 'II_cD1_varance', 'II_cD5_std_dev', 'II_cD4_std_dev', 'II_cD2_std_dev', 'III_cA5_energy', 'III_cD1_energy', 'III_cD5_mean', 'III_cD4_mean', 'III_cD5_varance', 'III_cD2_varance', 'III_cD5_std_dev', 'aVF_cA5_energy', 'aVF_cD5_energy', 'aVF_cD4_energy', 'aVF_cD1_energy', 'aVF_cA5_mean', 'aVF_cD4_mean', 'aVF_cD3_mean', 'aVF_cD1_mean', 'aVF_cD3_varance', 'aVF_cD1_varance', 'aVF_cD5_std_dev', 'aVF_cD3_std_dev', 'aVF_cD2_std_dev', 'aVR_cA5_energy', 'aVR_cD5_energy', 'aVR_cD3_energy', 'aVR_cA5_mean', 'aVR_cD4_mean', 'aVR_cD3_mean', 'aVR_cD2_mean', 'aVR_cD3_varance', 'aVR_cD1_varance', 'aVR_cD5_std_dev', 'aVR_cD4_std_dev', 'aVR_cD2_std_dev', 'aVR_cD1_std_dev', 'aVL_cA5_energy', 'aVL_cD2_energy', 'aVL_cA5_mean', 'aVL_cD4_mean', 'aVL_cD3_mean', 'aVL_cD1_mean', 'aVL_cD3_std_dev', 'aVL_cD1_std_dev', 'V1_cA5_energy', 'V1_cD3_energy', 'V1_cD1_energy', 'V1_cA5_mean', 'V1_cD5_mean', 'V1_cD3_mean', 'V1_cD4_varance', 'V1_cD2_varance', 'V1_cD1_varance', 'V1_cD5_std_dev', 'V1_cD3_std_dev', 'V1_cD1_std_dev', 'V2_cD4_energy', 'V2_cD3_energy', 'V2_cD2_energy', 'V2_cD1_energy', 'V2_cA5_mean', 'V2_cD4_mean', 'V2_cD3_mean', 'V2_cD1_mean', 'V2_cA5_varance', 'V2_cD4_varance', 'V2_cD1_varance', 'V2_cD5_std_dev', 'V2_cD4_std_dev', 'V2_cD3_std_dev', 'V2_cD2_std_dev', 'V3_cD5_energy', 'V3_cD4_energy', 'V3_cD3_energy', 'V3_cD1_energy', 'V3_cD4_mean', 'V3_cD3_mean', 'V3_cD1_mean', 'V3_cD4_varance', 'V3_cD3_varance', 'V3_cD3_std_dev', 'V4_cA5_energy', 'V4_cD5_energy', 'V4_cD1_energy', 'V4_cA5_mean', 'V4_cD3_mean', 'V4_cD2_mean', 'V4_cD1_mean', 'V4_cA5_varance', 'V4_cD5_varance', 'V4_cD3_varance', 'V4_cD2_varance', 'V4_cD1_std_dev', 'V5_cD3_energy', 'V5_cD1_energy', 'V5_cD5_mean', 'V5_cD4_mean', 'V5_cD2_mean', 'V5_cD5_varance', 'V5_cD4_varance', 'V5_cD2_varance', 'V5_cD5_std_dev', 'V5_cD4_std_dev', 'V5_cD3_std_dev', 'V6_cA5_energy', 'V6_cD3_energy', 'V6_cD4_mean', 'V6_cD1_mean', 'V6_cA5_varance', 'V6_cD4_varance', 'V6_cD2_varance', 'V6_cD1_varance', 'V6_cD5_std_dev', 'V6_cD4_std_dev', 'V6_cD3_std_dev', 'V6_cD2_std_dev', 'V6_cD1_std_dev', 'aVL_dFreq', 'V1_dFreq', 'V2_dFreq', 'V4_dFreq', 'I_specEn', 'II_specEn', 'III_specEn', 'aVR_specEn', 'V1_specEn', 'V2_specEn', 'V6_specEn', 'age', 'weight']\n",
    "\n",
    "# Selected features: V1 (just lead I)\n",
    "['I_cD4_energy', 'I_cD1_energy', 'I_cA5_mean', 'I_cD5_mean', 'I_cD4_mean', 'I_cD3_mean', 'I_cD2_mean', 'I_cA5_varance', 'I_cD5_varance', 'I_cD2_varance', 'I_cD1_varance', 'I_cA5_std_dev', 'I_cD4_std_dev', 'I_cD3_std_dev', 'I_cD2_std_dev', 'I_cD1_std_dev']\n",
    "\n",
    "# Selected features: V2 (correlation)\n",
    "['I_cA5_energy', 'I_cD5_energy', 'I_cD3_energy', 'I_cA5_mean', 'I_cD5_mean', 'I_cD4_mean', 'I_cD3_mean', 'I_cD2_mean', 'I_cD1_mean']\n",
    "\n",
    "\n"
   ]
  }
 ],
 "metadata": {
  "kernelspec": {
   "display_name": ".venv",
   "language": "python",
   "name": "python3"
  },
  "language_info": {
   "codemirror_mode": {
    "name": "ipython",
    "version": 3
   },
   "file_extension": ".py",
   "mimetype": "text/x-python",
   "name": "python",
   "nbconvert_exporter": "python",
   "pygments_lexer": "ipython3",
   "version": "3.11.0"
  },
  "orig_nbformat": 4
 },
 "nbformat": 4,
 "nbformat_minor": 2
}
