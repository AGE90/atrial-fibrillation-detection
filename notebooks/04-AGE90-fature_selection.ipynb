{
 "cells": [
  {
   "attachments": {},
   "cell_type": "markdown",
   "metadata": {},
   "source": [
    "# Feature selection"
   ]
  },
  {
   "cell_type": "code",
   "execution_count": 1,
   "metadata": {},
   "outputs": [
    {
     "name": "stderr",
     "output_type": "stream",
     "text": [
      "c:\\Users\\aleja\\Python\\atrial_fibrillation_detection\\.venv\\Lib\\site-packages\\tqdm\\auto.py:21: TqdmWarning: IProgress not found. Please update jupyter and ipywidgets. See https://ipywidgets.readthedocs.io/en/stable/user_install.html\n",
      "  from .autonotebook import tqdm as notebook_tqdm\n"
     ]
    }
   ],
   "source": [
    "import afdetection.utils.paths as path\n",
    "\n",
    "from afdetection.data.make_dataset import MakeDataset\n",
    "from afdetection.features.build_features import BuildFeatures\n",
    "\n",
    "from xgboost import XGBClassifier\n",
    "from sklearn_genetic import GAFeatureSelectionCV"
   ]
  },
  {
   "cell_type": "code",
   "execution_count": 2,
   "metadata": {},
   "outputs": [],
   "source": [
    "make_data = MakeDataset()\n",
    "dataset_DIR = path.data_raw_dir('dataset.csv')\n",
    "dataset = make_data.read_from_csv(dataset_DIR)\n",
    "\n",
    "build_features = BuildFeatures()\n",
    "X, y = build_features.features_target_split(\n",
    "    dataset=dataset,\n",
    "    drop_cols=['diagnosi', 'ritmi'],\n",
    "    target='ritmi'\n",
    ")"
   ]
  },
  {
   "attachments": {},
   "cell_type": "markdown",
   "metadata": {},
   "source": [
    "## Genetic algorithm feature selection"
   ]
  },
  {
   "cell_type": "code",
   "execution_count": 3,
   "metadata": {},
   "outputs": [
    {
     "name": "stdout",
     "output_type": "stream",
     "text": [
      "gen\tnevals\tfitness \tfitness_std\tfitness_max\tfitness_min\n",
      "0  \t30    \t0.770717\t0.00793486 \t0.78547    \t0.754823   \n",
      "1  \t60    \t0.77737 \t0.00570283 \t0.78547    \t0.766024   \n",
      "2  \t60    \t0.779506\t0.00419313 \t0.78547    \t0.768046   \n",
      "Selected features:\n",
      " ['I_cD1_energy', 'I_cD4_mean', 'I_cD3_mean', 'I_cD2_mean', 'I_cA5_varance', 'I_cD5_varance', 'I_cD4_varance', 'I_cD1_varance', 'I_cD5_std_dev', 'I_cD4_std_dev', 'I_cD3_std_dev', 'II_cA5_energy', 'II_cD5_energy', 'II_cD2_energy', 'II_cD4_mean', 'II_cD3_mean', 'II_cD2_mean', 'II_cA5_varance', 'II_cD3_varance', 'II_cD1_varance', 'II_cD5_std_dev', 'II_cD4_std_dev', 'II_cD2_std_dev', 'III_cA5_energy', 'III_cD1_energy', 'III_cD5_mean', 'III_cD4_mean', 'III_cD5_varance', 'III_cD2_varance', 'III_cD5_std_dev', 'aVF_cA5_energy', 'aVF_cD5_energy', 'aVF_cD4_energy', 'aVF_cD1_energy', 'aVF_cA5_mean', 'aVF_cD4_mean', 'aVF_cD3_mean', 'aVF_cD1_mean', 'aVF_cD3_varance', 'aVF_cD1_varance', 'aVF_cD5_std_dev', 'aVF_cD3_std_dev', 'aVF_cD2_std_dev', 'aVR_cA5_energy', 'aVR_cD5_energy', 'aVR_cD3_energy', 'aVR_cA5_mean', 'aVR_cD4_mean', 'aVR_cD3_mean', 'aVR_cD2_mean', 'aVR_cD3_varance', 'aVR_cD1_varance', 'aVR_cD5_std_dev', 'aVR_cD4_std_dev', 'aVR_cD2_std_dev', 'aVR_cD1_std_dev', 'aVL_cA5_energy', 'aVL_cD2_energy', 'aVL_cA5_mean', 'aVL_cD4_mean', 'aVL_cD3_mean', 'aVL_cD1_mean', 'aVL_cD3_std_dev', 'aVL_cD1_std_dev', 'V1_cA5_energy', 'V1_cD3_energy', 'V1_cD1_energy', 'V1_cA5_mean', 'V1_cD5_mean', 'V1_cD3_mean', 'V1_cD4_varance', 'V1_cD2_varance', 'V1_cD1_varance', 'V1_cD5_std_dev', 'V1_cD3_std_dev', 'V1_cD1_std_dev', 'V2_cD4_energy', 'V2_cD3_energy', 'V2_cD2_energy', 'V2_cD1_energy', 'V2_cA5_mean', 'V2_cD4_mean', 'V2_cD3_mean', 'V2_cD1_mean', 'V2_cA5_varance', 'V2_cD4_varance', 'V2_cD1_varance', 'V2_cD5_std_dev', 'V2_cD4_std_dev', 'V2_cD3_std_dev', 'V2_cD2_std_dev', 'V3_cD5_energy', 'V3_cD4_energy', 'V3_cD3_energy', 'V3_cD1_energy', 'V3_cD4_mean', 'V3_cD3_mean', 'V3_cD1_mean', 'V3_cD4_varance', 'V3_cD3_varance', 'V3_cD3_std_dev', 'V4_cA5_energy', 'V4_cD5_energy', 'V4_cD1_energy', 'V4_cA5_mean', 'V4_cD3_mean', 'V4_cD2_mean', 'V4_cD1_mean', 'V4_cA5_varance', 'V4_cD5_varance', 'V4_cD3_varance', 'V4_cD2_varance', 'V4_cD1_std_dev', 'V5_cD3_energy', 'V5_cD1_energy', 'V5_cD5_mean', 'V5_cD4_mean', 'V5_cD2_mean', 'V5_cD5_varance', 'V5_cD4_varance', 'V5_cD2_varance', 'V5_cD5_std_dev', 'V5_cD4_std_dev', 'V5_cD3_std_dev', 'V6_cA5_energy', 'V6_cD3_energy', 'V6_cD4_mean', 'V6_cD1_mean', 'V6_cA5_varance', 'V6_cD4_varance', 'V6_cD2_varance', 'V6_cD1_varance', 'V6_cD5_std_dev', 'V6_cD4_std_dev', 'V6_cD3_std_dev', 'V6_cD2_std_dev', 'V6_cD1_std_dev', 'aVL_dFreq', 'V1_dFreq', 'V2_dFreq', 'V4_dFreq', 'I_specEn', 'II_specEn', 'III_specEn', 'aVR_specEn', 'V1_specEn', 'V2_specEn', 'V6_specEn', 'age', 'weight']\n",
      "Discarted features:\n",
      " ['I_cA5_energy', 'I_cD5_energy', 'I_cD4_energy', 'I_cD3_energy', 'I_cD2_energy', 'I_cA5_mean', 'I_cD5_mean', 'I_cD1_mean', 'I_cD3_varance', 'I_cD2_varance', 'I_cA5_std_dev', 'I_cD2_std_dev', 'I_cD1_std_dev', 'II_cD4_energy', 'II_cD3_energy', 'II_cD1_energy', 'II_cA5_mean', 'II_cD5_mean', 'II_cD1_mean', 'II_cD5_varance', 'II_cD4_varance', 'II_cD2_varance', 'II_cA5_std_dev', 'II_cD3_std_dev', 'II_cD1_std_dev', 'III_cD5_energy', 'III_cD4_energy', 'III_cD3_energy', 'III_cD2_energy', 'III_cA5_mean', 'III_cD3_mean', 'III_cD2_mean', 'III_cD1_mean', 'III_cA5_varance', 'III_cD4_varance', 'III_cD3_varance', 'III_cD1_varance', 'III_cA5_std_dev', 'III_cD4_std_dev', 'III_cD3_std_dev', 'III_cD2_std_dev', 'III_cD1_std_dev', 'aVF_cD3_energy', 'aVF_cD2_energy', 'aVF_cD5_mean', 'aVF_cD2_mean', 'aVF_cA5_varance', 'aVF_cD5_varance', 'aVF_cD4_varance', 'aVF_cD2_varance', 'aVF_cA5_std_dev', 'aVF_cD4_std_dev', 'aVF_cD1_std_dev', 'aVR_cD4_energy', 'aVR_cD2_energy', 'aVR_cD1_energy', 'aVR_cD5_mean', 'aVR_cD1_mean', 'aVR_cA5_varance', 'aVR_cD5_varance', 'aVR_cD4_varance', 'aVR_cD2_varance', 'aVR_cA5_std_dev', 'aVR_cD3_std_dev', 'aVL_cD5_energy', 'aVL_cD4_energy', 'aVL_cD3_energy', 'aVL_cD1_energy', 'aVL_cD5_mean', 'aVL_cD2_mean', 'aVL_cA5_varance', 'aVL_cD5_varance', 'aVL_cD4_varance', 'aVL_cD3_varance', 'aVL_cD2_varance', 'aVL_cD1_varance', 'aVL_cA5_std_dev', 'aVL_cD5_std_dev', 'aVL_cD4_std_dev', 'aVL_cD2_std_dev', 'V1_cD5_energy', 'V1_cD4_energy', 'V1_cD2_energy', 'V1_cD4_mean', 'V1_cD2_mean', 'V1_cD1_mean', 'V1_cA5_varance', 'V1_cD5_varance', 'V1_cD3_varance', 'V1_cA5_std_dev', 'V1_cD4_std_dev', 'V1_cD2_std_dev', 'V2_cA5_energy', 'V2_cD5_energy', 'V2_cD5_mean', 'V2_cD2_mean', 'V2_cD5_varance', 'V2_cD3_varance', 'V2_cD2_varance', 'V2_cA5_std_dev', 'V2_cD1_std_dev', 'V3_cA5_energy', 'V3_cD2_energy', 'V3_cA5_mean', 'V3_cD5_mean', 'V3_cD2_mean', 'V3_cA5_varance', 'V3_cD5_varance', 'V3_cD2_varance', 'V3_cD1_varance', 'V3_cA5_std_dev', 'V3_cD5_std_dev', 'V3_cD4_std_dev', 'V3_cD2_std_dev', 'V3_cD1_std_dev', 'V4_cD4_energy', 'V4_cD3_energy', 'V4_cD2_energy', 'V4_cD5_mean', 'V4_cD4_mean', 'V4_cD4_varance', 'V4_cD1_varance', 'V4_cA5_std_dev', 'V4_cD5_std_dev', 'V4_cD4_std_dev', 'V4_cD3_std_dev', 'V4_cD2_std_dev', 'V5_cA5_energy', 'V5_cD5_energy', 'V5_cD4_energy', 'V5_cD2_energy', 'V5_cA5_mean', 'V5_cD3_mean', 'V5_cD1_mean', 'V5_cA5_varance', 'V5_cD3_varance', 'V5_cD1_varance', 'V5_cA5_std_dev', 'V5_cD2_std_dev', 'V5_cD1_std_dev', 'V6_cD5_energy', 'V6_cD4_energy', 'V6_cD2_energy', 'V6_cD1_energy', 'V6_cA5_mean', 'V6_cD5_mean', 'V6_cD3_mean', 'V6_cD2_mean', 'V6_cD5_varance', 'V6_cD3_varance', 'V6_cA5_std_dev', 'I_dFreq', 'II_dFreq', 'III_dFreq', 'aVF_dFreq', 'aVR_dFreq', 'V3_dFreq', 'V5_dFreq', 'V6_dFreq', 'aVF_specEn', 'aVL_specEn', 'V3_specEn', 'V4_specEn', 'V5_specEn', 'sex', 'height']\n"
     ]
    }
   ],
   "source": [
    "# Estimator\n",
    "clf = XGBClassifier()\n",
    "\n",
    "selector = GAFeatureSelectionCV(estimator=clf,\n",
    "                                cv=2,\n",
    "                                scoring=\"accuracy\",\n",
    "                                population_size=30,\n",
    "                                generations=2,\n",
    "                                n_jobs=-1,\n",
    "                                verbose=True,\n",
    "                                keep_top_k=1,\n",
    "                                elitism=True)\n",
    "\n",
    "selector.fit(X, y)\n",
    "support = selector.best_features_\n",
    "\n",
    "selected_ga = X.columns[support].to_list()\n",
    "discarted_ga = X.columns[~support].to_list()\n",
    "\n",
    "print('Selected features:\\n', selected_ga)\n",
    "print('Discarted features:\\n', discarted_ga)"
   ]
  },
  {
   "cell_type": "code",
   "execution_count": null,
   "metadata": {},
   "outputs": [],
   "source": [
    "# Selected features:\n",
    "['I_cD1_energy', 'I_cD4_mean', 'I_cD3_mean', 'I_cD2_mean', 'I_cA5_varance', 'I_cD5_varance', 'I_cD4_varance', 'I_cD1_varance', 'I_cD5_std_dev', 'I_cD4_std_dev', 'I_cD3_std_dev', 'II_cA5_energy', 'II_cD5_energy', 'II_cD2_energy', 'II_cD4_mean', 'II_cD3_mean', 'II_cD2_mean', 'II_cA5_varance', 'II_cD3_varance', 'II_cD1_varance', 'II_cD5_std_dev', 'II_cD4_std_dev', 'II_cD2_std_dev', 'III_cA5_energy', 'III_cD1_energy', 'III_cD5_mean', 'III_cD4_mean', 'III_cD5_varance', 'III_cD2_varance', 'III_cD5_std_dev', 'aVF_cA5_energy', 'aVF_cD5_energy', 'aVF_cD4_energy', 'aVF_cD1_energy', 'aVF_cA5_mean', 'aVF_cD4_mean', 'aVF_cD3_mean', 'aVF_cD1_mean', 'aVF_cD3_varance', 'aVF_cD1_varance', 'aVF_cD5_std_dev', 'aVF_cD3_std_dev', 'aVF_cD2_std_dev', 'aVR_cA5_energy', 'aVR_cD5_energy', 'aVR_cD3_energy', 'aVR_cA5_mean', 'aVR_cD4_mean', 'aVR_cD3_mean', 'aVR_cD2_mean', 'aVR_cD3_varance', 'aVR_cD1_varance', 'aVR_cD5_std_dev', 'aVR_cD4_std_dev', 'aVR_cD2_std_dev', 'aVR_cD1_std_dev', 'aVL_cA5_energy', 'aVL_cD2_energy', 'aVL_cA5_mean', 'aVL_cD4_mean', 'aVL_cD3_mean', 'aVL_cD1_mean', 'aVL_cD3_std_dev', 'aVL_cD1_std_dev', 'V1_cA5_energy', 'V1_cD3_energy', 'V1_cD1_energy', 'V1_cA5_mean', 'V1_cD5_mean', 'V1_cD3_mean', 'V1_cD4_varance', 'V1_cD2_varance', 'V1_cD1_varance', 'V1_cD5_std_dev', 'V1_cD3_std_dev', 'V1_cD1_std_dev', 'V2_cD4_energy', 'V2_cD3_energy', 'V2_cD2_energy', 'V2_cD1_energy', 'V2_cA5_mean', 'V2_cD4_mean', 'V2_cD3_mean', 'V2_cD1_mean', 'V2_cA5_varance', 'V2_cD4_varance', 'V2_cD1_varance', 'V2_cD5_std_dev', 'V2_cD4_std_dev', 'V2_cD3_std_dev', 'V2_cD2_std_dev', 'V3_cD5_energy', 'V3_cD4_energy', 'V3_cD3_energy', 'V3_cD1_energy', 'V3_cD4_mean', 'V3_cD3_mean', 'V3_cD1_mean', 'V3_cD4_varance', 'V3_cD3_varance', 'V3_cD3_std_dev', 'V4_cA5_energy', 'V4_cD5_energy', 'V4_cD1_energy', 'V4_cA5_mean', 'V4_cD3_mean', 'V4_cD2_mean', 'V4_cD1_mean', 'V4_cA5_varance', 'V4_cD5_varance', 'V4_cD3_varance', 'V4_cD2_varance', 'V4_cD1_std_dev', 'V5_cD3_energy', 'V5_cD1_energy', 'V5_cD5_mean', 'V5_cD4_mean', 'V5_cD2_mean', 'V5_cD5_varance', 'V5_cD4_varance', 'V5_cD2_varance', 'V5_cD5_std_dev', 'V5_cD4_std_dev', 'V5_cD3_std_dev', 'V6_cA5_energy', 'V6_cD3_energy', 'V6_cD4_mean', 'V6_cD1_mean', 'V6_cA5_varance', 'V6_cD4_varance', 'V6_cD2_varance', 'V6_cD1_varance', 'V6_cD5_std_dev', 'V6_cD4_std_dev', 'V6_cD3_std_dev', 'V6_cD2_std_dev', 'V6_cD1_std_dev', 'aVL_dFreq', 'V1_dFreq', 'V2_dFreq', 'V4_dFreq', 'I_specEn', 'II_specEn', 'III_specEn', 'aVR_specEn', 'V1_specEn', 'V2_specEn', 'V6_specEn', 'age', 'weight']"
   ]
  }
 ],
 "metadata": {
  "kernelspec": {
   "display_name": ".venv",
   "language": "python",
   "name": "python3"
  },
  "language_info": {
   "codemirror_mode": {
    "name": "ipython",
    "version": 3
   },
   "file_extension": ".py",
   "mimetype": "text/x-python",
   "name": "python",
   "nbconvert_exporter": "python",
   "pygments_lexer": "ipython3",
   "version": "3.11.0"
  },
  "orig_nbformat": 4
 },
 "nbformat": 4,
 "nbformat_minor": 2
}
